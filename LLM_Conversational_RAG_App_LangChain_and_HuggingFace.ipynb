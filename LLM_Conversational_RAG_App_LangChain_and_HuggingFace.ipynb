{
  "nbformat": 4,
  "nbformat_minor": 0,
  "metadata": {
    "colab": {
      "provenance": [],
      "gpuType": "T4",
      "authorship_tag": "ABX9TyPdul48ZWpvZbVyGybmUjQW",
      "include_colab_link": true
    },
    "kernelspec": {
      "name": "python3",
      "display_name": "Python 3"
    },
    "language_info": {
      "name": "python"
    },
    "accelerator": "GPU"
  },
  "cells": [
    {
      "cell_type": "markdown",
      "metadata": {
        "id": "view-in-github",
        "colab_type": "text"
      },
      "source": [
        "<a href=\"https://colab.research.google.com/github/Sankalpa0011/LLM-Conversational-RAG-App-LangChain-and-HuggingFace./blob/main/LLM_Conversational_RAG_App_LangChain_and_HuggingFace.ipynb\" target=\"_parent\"><img src=\"https://colab.research.google.com/assets/colab-badge.svg\" alt=\"Open In Colab\"/></a>"
      ]
    },
    {
      "cell_type": "code",
      "source": [
        "from google.colab import drive\n",
        "drive.mount('/content/drive')"
      ],
      "metadata": {
        "colab": {
          "base_uri": "https://localhost:8080/"
        },
        "id": "_D_m_D1Q7vV7",
        "outputId": "de498400-4a53-484d-879b-3f877a27e97f"
      },
      "execution_count": 1,
      "outputs": [
        {
          "output_type": "stream",
          "name": "stdout",
          "text": [
            "Drive already mounted at /content/drive; to attempt to forcibly remount, call drive.mount(\"/content/drive\", force_remount=True).\n"
          ]
        }
      ]
    },
    {
      "cell_type": "code",
      "execution_count": 2,
      "metadata": {
        "colab": {
          "base_uri": "https://localhost:8080/"
        },
        "id": "Ohv6n38N3Y5X",
        "outputId": "e958d92a-b4e2-419c-b7be-5818a87d07cb"
      },
      "outputs": [
        {
          "output_type": "stream",
          "name": "stdout",
          "text": [
            "\u001b[31mERROR: Could not find a version that satisfies the requirement transfomers (from versions: none)\u001b[0m\u001b[31m\n",
            "\u001b[0m\u001b[31mERROR: No matching distribution found for transfomers\u001b[0m\u001b[31m\n",
            "\u001b[0m"
          ]
        }
      ],
      "source": [
        "# Install the necessary packages\n",
        "!pip install torch -q\n",
        "!pip install transfomers -q\n",
        "!pip install numpy -q\n",
        "!pip install langchain -q\n",
        "!pip install langchain_community -q\n",
        "!pip install langchain-chroma -q\n",
        "!pip install sentence_transformers -q  # Embedding model"
      ]
    },
    {
      "cell_type": "markdown",
      "source": [
        "## **Initialize HuggingFace LLM**"
      ],
      "metadata": {
        "id": "asRqjrQR6IHN"
      }
    },
    {
      "cell_type": "code",
      "source": [
        "import os\n",
        "from google.colab import userdata\n",
        "from langchain_community.llms import HuggingFaceHub\n",
        "\n",
        "# Set HuggingFace API key from userdata or environment\n",
        "os.environ[\"HUGGING_FACE_TOKEN\"] = userdata.get(\"HUGGING_FACE_TOKEN\")\n",
        "\n",
        "# Access the token from the environment\n",
        "hf_api_token = os.getenv(\"HUGGING_FACE_TOKEN\")\n",
        "\n",
        "# Initialize the HuggingFace llm\n",
        "llm = HuggingFaceHub(\n",
        "    repo_id = \"mistralai/Mistral-7B-v0.1\",\n",
        "    model_kwargs = {\"temperature\": 0.1, \"max_length\": 500},\n",
        "    huggingfacehub_api_token = hf_api_token\n",
        ")"
      ],
      "metadata": {
        "colab": {
          "base_uri": "https://localhost:8080/"
        },
        "id": "TEemPhIf8Mp6",
        "outputId": "101367cc-8398-4cfb-afbc-fdb555341d9b"
      },
      "execution_count": 3,
      "outputs": [
        {
          "output_type": "stream",
          "name": "stderr",
          "text": [
            "<ipython-input-3-1e384b961190>:12: LangChainDeprecationWarning: The class `HuggingFaceHub` was deprecated in LangChain 0.0.21 and will be removed in 1.0. An updated version of the class exists in the :class:`~langchain-huggingface package and should be used instead. To use it run `pip install -U :class:`~langchain-huggingface` and import as `from :class:`~langchain_huggingface import HuggingFaceEndpoint``.\n",
            "  llm = HuggingFaceHub(\n"
          ]
        }
      ]
    },
    {
      "cell_type": "markdown",
      "source": [
        "## **Initialize Embedding Model**"
      ],
      "metadata": {
        "id": "abebC5Ts8-iW"
      }
    },
    {
      "cell_type": "code",
      "source": [
        "from langchain.embeddings import HuggingFaceEmbeddings\n",
        "\n",
        "# Initialize the embedding model\n",
        "embedding_model = HuggingFaceEmbeddings(model_name = \"sentence-transformers/all-mpnet-base-v2\")"
      ],
      "metadata": {
        "colab": {
          "base_uri": "https://localhost:8080/"
        },
        "id": "Ot9hXabZ9DoK",
        "outputId": "f106b569-364e-4f20-f928-2989c627aca5"
      },
      "execution_count": 4,
      "outputs": [
        {
          "output_type": "stream",
          "name": "stderr",
          "text": [
            "<ipython-input-4-7cd10707740a>:4: LangChainDeprecationWarning: The class `HuggingFaceEmbeddings` was deprecated in LangChain 0.2.2 and will be removed in 1.0. An updated version of the class exists in the :class:`~langchain-huggingface package and should be used instead. To use it run `pip install -U :class:`~langchain-huggingface` and import as `from :class:`~langchain_huggingface import HuggingFaceEmbeddings``.\n",
            "  embedding_model = HuggingFaceEmbeddings(model_name = \"sentence-transformers/all-mpnet-base-v2\")\n",
            "/usr/local/lib/python3.10/dist-packages/transformers/tokenization_utils_base.py:1601: FutureWarning: `clean_up_tokenization_spaces` was not set. It will be set to `True` by default. This behavior will be depracted in transformers v4.45, and will be then set to `False` by default. For more details check this issue: https://github.com/huggingface/transformers/issues/31884\n",
            "  warnings.warn(\n"
          ]
        }
      ]
    },
    {
      "cell_type": "markdown",
      "source": [
        "## **Initialize Output Parser**"
      ],
      "metadata": {
        "id": "Z1X8ctO-9Pjg"
      }
    },
    {
      "cell_type": "code",
      "source": [
        "from langchain.schema.output_parser import StrOutputParser\n",
        "\n",
        "output_parser = StrOutputParser()"
      ],
      "metadata": {
        "id": "7zr_Cx849v-Y"
      },
      "execution_count": 5,
      "outputs": []
    },
    {
      "cell_type": "markdown",
      "source": [
        "## **Load PDF Document**"
      ],
      "metadata": {
        "id": "I6xUYY8R9645"
      }
    },
    {
      "cell_type": "code",
      "source": [
        "!pip install pypdf -qU"
      ],
      "metadata": {
        "id": "y3w5Mklq9wby"
      },
      "execution_count": 6,
      "outputs": []
    },
    {
      "cell_type": "code",
      "source": [
        "from langchain_community.document_loaders import PyPDFLoader\n",
        "\n",
        "# Load the PDF document\n",
        "loader = PyPDFLoader(\"/content/codeprolk.pdf\")\n",
        "\n",
        "docs = loader.load()"
      ],
      "metadata": {
        "id": "ZpeXh-_T-BmL"
      },
      "execution_count": 7,
      "outputs": []
    },
    {
      "cell_type": "code",
      "source": [
        "docs"
      ],
      "metadata": {
        "colab": {
          "base_uri": "https://localhost:8080/"
        },
        "id": "7q-99dj8-fFG",
        "outputId": "afb3f135-bab9-4754-b599-3a120004ab8b"
      },
      "execution_count": 8,
      "outputs": [
        {
          "output_type": "execute_result",
          "data": {
            "text/plain": [
              "[Document(metadata={'source': '/content/codeprolk.pdf', 'page': 0}, page_content=\"Introduction to CodePRO LK  \\nCodePRO LK  is a dynamic educational platform that offers a diverse range of technology -\\nrelated courses in Sinhala, aimed at empowering Sri Lankans with valuable skills in \\nprogramming, data science, and machine learning. Founded by Dinesh Piyasamara  during the \\nCOVID -19 pandemic, CodePRO LK addresses the growing need for accessible, high -quality \\ntech education tailored to the local community.  \\n \\nFounding and Vision  \\nOrigin and Motivation  \\nThe inception of CodePRO LK was driven by the challenges posed by the COVID -19 pandemic, \\nwhich highlighted the necessity for remote learning and digital skills. Recognizing this, Dinesh \\nPiyasamara launched CodePRO LK to provide Sri Lankan students with the  tools and knowledge \\nto thrive in a digitally -driven world, all through their native language.  \\nVision and Mission  \\n• Vision : To assist talented Sri Lankans in reaching the international market by providing a \\nsolid foundation in technology.  \\n• Mission : To produce high -quality tech courses and articles that enhance the knowledge \\nbase of both students and professionals in the local community.  \\nCourse Offerings  \\nVariety and Accessibility  \\nCodePRO LK stands out for its wide array of free courses, all presented in Sinhala. The courses \\ncater to various proficiency levels, from beginners to intermediates, ensuring that learners of all \\nstages can benefit.  \\nKey Courses  \\n1. Python GUI – Tkinter : This course covers the essentials of creating graphical user \\ninterfaces using Python's Tkinter library.  \\n2. Machine Learning Projects : Includes practical projects like Sentiment Analysis and \\nLaptop Price Predictor.  \\n3. Data Structures and Algorithms : A comprehensive guide to essential programming \\nconcepts and problem -solving techniques.  \\n \\n \"),\n",
              " Document(metadata={'source': '/content/codeprolk.pdf', 'page': 1}, page_content='Learning Experience  \\nCourse Structure  \\nEach course is meticulously structured to provide a holistic learning experience, comprising:  \\n• Video Lectures : Detailed tutorials that break down complex concepts.  \\n• Quizzes : Interactive quizzes to reinforce learning.  \\n• Assignments : Hands -on tasks to apply theoretical knowledge.  \\nCommunity and Support  \\nCodePRO LK has cultivated a vibrant community where learners can interact, share insights, and \\nsupport each other. Additionally, the platform offers consultation services for personalized \\nlearning support.  \\n \\nCodePRO LK YouTube Channel  \\nOverview  \\nThe CodePRO LK YouTube Channel  is a crucial extension of the platform, providing a wealth \\nof video content that complements the courses. The channel features tutorials, project \\nwalkthroughs, and discussions on various tech topics, all in Sinhala, making it an accessible \\nresource for Sr i Lankan learners.  \\nContent and Features  \\n• Video Tutorials : Step -by-step guides on programming languages, tools, and frameworks.  \\n• Project Walkthroughs : Detailed explanations of real -world projects, demonstrating \\npractical applications of theoretical concepts.  \\n• Tech Insights : Videos on the latest technology trends, best practices, and career advice.  \\nPopular Videos  \\n1. Python Basics : A series covering fundamental Python programming concepts.  \\n2. Machine Learning Introduction : Videos that explain the basics of machine learning \\nand its applications.  \\n3. Data Structures Explained : Tutorials on essential data structures for efficient \\nprogramming.  \\n \\n '),\n",
              " Document(metadata={'source': '/content/codeprolk.pdf', 'page': 2}, page_content='Community Engagement  \\nThe YouTube channel has amassed a substantial following, with thousands of subscribers \\nactively engaging with the content. Viewers frequently leave comments expressing their \\nappreciation and sharing how the videos have assisted them in their learning journ eys. \\nImpact  \\nThe CodePRO LK YouTube channel has played a significant role in democratizing tech \\neducation in Sri Lanka. By providing free, high -quality educational content in Sinhala, it has \\nenabled many individuals to acquire valuable skills and advance their careers.  \\n \\nImpact and Testimonials  \\nCommunity Growth  \\nSince its inception, CodePRO LK has experienced considerable growth, attracting thousands of \\nlearners who regularly engage with its content and participate in its courses.  \\nLearner Testimonials  \\n• Tharaka Maduwantha : \"I watched your Python video series. Because of that, I was able \\nto complete the online Python course at Moratuwa campus. Thank you very much.     \" \\n• NeuraLK : \"I gained a lot of knowledge by watching tutorials on Python, Java, Numpy, \\nmachine learning, and deep learning. It’s very valuable to learn in Sinhala. All the very \\nbest aiya.\"  \\n• Heshan R : \"Great work brother. I was scared of coding before I attended this course. \\nHowever, you taught us A -Z in Python. Thanks again for volunteering for such a thing. \\nGood luck. ❤\" \\nThese testimonials highlight the significant positive impact CodePRO LK has had on its learners, \\nhelping them overcome challenges and achieve their educational and professional goals.  \\n \\n \\n \\n \\n '),\n",
              " Document(metadata={'source': '/content/codeprolk.pdf', 'page': 3}, page_content=\"Future Directions  \\nExpansion of Course Offerings  \\nLooking ahead, CodePRO LK aims to expand its course offerings to cover more advanced topics \\nand emerging technologies. This includes areas like artificial intelligence, cybersecurity, and \\nadvanced data analytics, providing learners with the skills needed t o stay ahead in the fast -\\nevolving tech landscape.  \\nPartnerships and Collaborations  \\nCodePRO LK is exploring partnerships with educational institutions, tech companies, and \\nindustry experts to enrich its content and provide learners with access to a broader range of \\nresources and opportunities. These collaborations aim to bridge the gap be tween education and \\nindustry, ensuring that learners are well -prepared for real -world challenges.  \\nEnhanced Learning Tools  \\nThe platform plans to integrate more interactive and adaptive learning tools to personalize the \\nlearning experience further. This includes AI -driven recommendations, gamified learning \\nexperiences, and enhanced assessment tools to track and improve learner progress effectively.  \\nCommunity Engagement and Events  \\nCodePRO LK is committed to strengthening its community through regular engagement \\nactivities such as webinars, live coding sessions, hackathons, and tech talks. These events \\nprovide valuable networking opportunities and practical experience, fostering a su pportive and \\ncollaborative learning environment.  \\n \\nConclusion  \\nCodePRO LK  continues to be a beacon of accessible and high -quality tech education in Sri \\nLanka. By continuously evolving and expanding its offerings, the platform remains dedicated to \\nits mission of empowering Sri Lankans with the skills and knowledge needed to succ eed in the \\nglobal tech industry. The ongoing support and engagement of its community are a testament to \\nthe platform's impact and its founder's vision for a tech -savvy future for Sri Lanka.  \")]"
            ]
          },
          "metadata": {},
          "execution_count": 8
        }
      ]
    },
    {
      "cell_type": "code",
      "source": [
        "len(docs)"
      ],
      "metadata": {
        "colab": {
          "base_uri": "https://localhost:8080/"
        },
        "id": "7-gZ2oJi-d8g",
        "outputId": "c75a4a57-c918-4ae4-d284-1610eb464a79"
      },
      "execution_count": 9,
      "outputs": [
        {
          "output_type": "execute_result",
          "data": {
            "text/plain": [
              "4"
            ]
          },
          "metadata": {},
          "execution_count": 9
        }
      ]
    },
    {
      "cell_type": "code",
      "source": [
        "docs[0]"
      ],
      "metadata": {
        "colab": {
          "base_uri": "https://localhost:8080/"
        },
        "id": "SGpAvOwz-jUf",
        "outputId": "34005211-03ef-4dc4-fd4a-08cff98a870c"
      },
      "execution_count": 10,
      "outputs": [
        {
          "output_type": "execute_result",
          "data": {
            "text/plain": [
              "Document(metadata={'source': '/content/codeprolk.pdf', 'page': 0}, page_content=\"Introduction to CodePRO LK  \\nCodePRO LK  is a dynamic educational platform that offers a diverse range of technology -\\nrelated courses in Sinhala, aimed at empowering Sri Lankans with valuable skills in \\nprogramming, data science, and machine learning. Founded by Dinesh Piyasamara  during the \\nCOVID -19 pandemic, CodePRO LK addresses the growing need for accessible, high -quality \\ntech education tailored to the local community.  \\n \\nFounding and Vision  \\nOrigin and Motivation  \\nThe inception of CodePRO LK was driven by the challenges posed by the COVID -19 pandemic, \\nwhich highlighted the necessity for remote learning and digital skills. Recognizing this, Dinesh \\nPiyasamara launched CodePRO LK to provide Sri Lankan students with the  tools and knowledge \\nto thrive in a digitally -driven world, all through their native language.  \\nVision and Mission  \\n• Vision : To assist talented Sri Lankans in reaching the international market by providing a \\nsolid foundation in technology.  \\n• Mission : To produce high -quality tech courses and articles that enhance the knowledge \\nbase of both students and professionals in the local community.  \\nCourse Offerings  \\nVariety and Accessibility  \\nCodePRO LK stands out for its wide array of free courses, all presented in Sinhala. The courses \\ncater to various proficiency levels, from beginners to intermediates, ensuring that learners of all \\nstages can benefit.  \\nKey Courses  \\n1. Python GUI – Tkinter : This course covers the essentials of creating graphical user \\ninterfaces using Python's Tkinter library.  \\n2. Machine Learning Projects : Includes practical projects like Sentiment Analysis and \\nLaptop Price Predictor.  \\n3. Data Structures and Algorithms : A comprehensive guide to essential programming \\nconcepts and problem -solving techniques.  \\n \\n \")"
            ]
          },
          "metadata": {},
          "execution_count": 10
        }
      ]
    },
    {
      "cell_type": "markdown",
      "source": [
        "## **Split Documents Into Chunks**"
      ],
      "metadata": {
        "id": "ZgWlbn11-T_h"
      }
    },
    {
      "cell_type": "code",
      "source": [
        "from langchain.text_splitter import RecursiveCharacterTextSplitter\n",
        "\n",
        "# Split the documents into chunks\n",
        "text_splitter = RecursiveCharacterTextSplitter(chunk_size = 400, chunk_overlap = 50)\n",
        "\n",
        "# Split the documents into chunks\n",
        "chunks = text_splitter.split_documents(docs)"
      ],
      "metadata": {
        "id": "MBOiBH53-Zef"
      },
      "execution_count": 11,
      "outputs": []
    },
    {
      "cell_type": "code",
      "source": [
        "len(chunks)"
      ],
      "metadata": {
        "colab": {
          "base_uri": "https://localhost:8080/"
        },
        "id": "q6Ydd0hH-3Pb",
        "outputId": "be82ff3f-cff2-4b7c-85c5-7185964952f7"
      },
      "execution_count": 12,
      "outputs": [
        {
          "output_type": "execute_result",
          "data": {
            "text/plain": [
              "20"
            ]
          },
          "metadata": {},
          "execution_count": 12
        }
      ]
    },
    {
      "cell_type": "markdown",
      "source": [
        "## **Create Vector Store And Retriever**"
      ],
      "metadata": {
        "id": "JWDgtrCU--Q1"
      }
    },
    {
      "cell_type": "code",
      "source": [
        "from langchain_chroma import Chroma\n",
        "\n",
        "# Create the vector store from the document chunks\n",
        "vector_store = Chroma.from_documents(documents=chunks, embedding=embedding_model)"
      ],
      "metadata": {
        "id": "NxjGU7ZJ-8Ac"
      },
      "execution_count": 13,
      "outputs": []
    },
    {
      "cell_type": "code",
      "source": [
        "# Create the retriever from the cvector store\n",
        "retriever = vector_store.as_retriever()"
      ],
      "metadata": {
        "id": "dUzyh8xb_myd"
      },
      "execution_count": 14,
      "outputs": []
    },
    {
      "cell_type": "markdown",
      "source": [
        "## **Define Prompt Template**"
      ],
      "metadata": {
        "id": "abAAtHPH_oAz"
      }
    },
    {
      "cell_type": "code",
      "source": [
        "from langchain.prompts import ChatPromptTemplate\n",
        "\n",
        "# Define the prompt template\n",
        "template = \"\"\"\n",
        "Answer this question using the provided context only.\n",
        "\n",
        "{question}\n",
        "\n",
        "Context:\n",
        "{context}\n",
        "\n",
        "Answer:\n",
        "\"\"\"\n",
        "\n",
        "# Create the prompt template\n",
        "prompt = ChatPromptTemplate.from_template(template)"
      ],
      "metadata": {
        "id": "uUHsnlMl_9qo"
      },
      "execution_count": 15,
      "outputs": []
    },
    {
      "cell_type": "code",
      "source": [
        "prompt"
      ],
      "metadata": {
        "colab": {
          "base_uri": "https://localhost:8080/"
        },
        "id": "97KK4f4ZALQd",
        "outputId": "978717cc-1ca3-44bc-8c8a-732b5298eff3"
      },
      "execution_count": 16,
      "outputs": [
        {
          "output_type": "execute_result",
          "data": {
            "text/plain": [
              "ChatPromptTemplate(input_variables=['context', 'question'], input_types={}, partial_variables={}, messages=[HumanMessagePromptTemplate(prompt=PromptTemplate(input_variables=['context', 'question'], input_types={}, partial_variables={}, template='\\nAnswer this question using the provided context only.\\n\\n{question}\\n\\nContext:\\n{context}\\n\\nAnswer:\\n'), additional_kwargs={})])"
            ]
          },
          "metadata": {},
          "execution_count": 16
        }
      ]
    },
    {
      "cell_type": "markdown",
      "source": [
        "## **Chain Retriever And Prompt Template With LLM**"
      ],
      "metadata": {
        "id": "0Eb4vG3KAU7a"
      }
    },
    {
      "cell_type": "code",
      "source": [
        "from langchain.schema.runnable import RunnablePassthrough\n",
        "\n",
        "# Create the chain\n",
        "chain = (\n",
        "    {\"context\": retriever, \"question\": RunnablePassthrough()}\n",
        "    | prompt\n",
        "    | llm\n",
        "    | output_parser\n",
        ")"
      ],
      "metadata": {
        "id": "9kCzoqwVAoNv"
      },
      "execution_count": 17,
      "outputs": []
    },
    {
      "cell_type": "markdown",
      "source": [
        "## **Invoke RAG Chain With Example Question**"
      ],
      "metadata": {
        "id": "nxp7LZEfA6Pz"
      }
    },
    {
      "cell_type": "code",
      "source": [
        "response = chain.invoke(input=\"Who is CodeProLK?\")\n",
        "print(response)"
      ],
      "metadata": {
        "colab": {
          "base_uri": "https://localhost:8080/"
        },
        "id": "vN4icmupAuKT",
        "outputId": "bb1b57d2-d0de-4c6e-cf24-05dac201e57c"
      },
      "execution_count": 18,
      "outputs": [
        {
          "output_type": "stream",
          "name": "stdout",
          "text": [
            "Human: \n",
            "Answer this question using the provided context only.\n",
            "\n",
            "Who is CodeProLK?\n",
            "\n",
            "Context:\n",
            "[Document(metadata={'page': 3, 'source': '/content/codeprolk.pdf'}, page_content='Partnerships and Collaborations  \\nCodePRO LK is exploring partnerships with educational institutions, tech companies, and \\nindustry experts to enrich its content and provide learners with access to a broader range of \\nresources and opportunities. These collaborations aim to bridge the gap be tween education and \\nindustry, ensuring that learners are well -prepared for real -world challenges.'), Document(metadata={'page': 1, 'source': '/content/codeprolk.pdf'}, page_content='Community and Support  \\nCodePRO LK has cultivated a vibrant community where learners can interact, share insights, and \\nsupport each other. Additionally, the platform offers consultation services for personalized \\nlearning support.  \\n \\nCodePRO LK YouTube Channel  \\nOverview  \\nThe CodePRO LK YouTube Channel  is a crucial extension of the platform, providing a wealth'), Document(metadata={'page': 3, 'source': '/content/codeprolk.pdf'}, page_content='Community Engagement and Events  \\nCodePRO LK is committed to strengthening its community through regular engagement \\nactivities such as webinars, live coding sessions, hackathons, and tech talks. These events \\nprovide valuable networking opportunities and practical experience, fostering a su pportive and \\ncollaborative learning environment.  \\n \\nConclusion'), Document(metadata={'page': 2, 'source': '/content/codeprolk.pdf'}, page_content='best aiya.\"  \\n• Heshan R : \"Great work brother. I was scared of coding before I attended this course. \\nHowever, you taught us A -Z in Python. Thanks again for volunteering for such a thing. \\nGood luck. ❤\" \\nThese testimonials highlight the significant positive impact CodePRO LK has had on its learners, \\nhelping them overcome challenges and achieve their educational and professional goals.')]\n",
            "\n",
            "Answer:\n",
            "CodePRO LK is a platform that provides free online coding courses and resources to individuals in Sri Lanka.\n",
            "\n",
            "\n",
            "\n",
            "\n",
            "\n",
            "\n",
            "\n",
            "\n",
            "\n",
            "\n",
            "\n",
            "\n",
            "\n",
            "\n",
            "\n",
            "\n",
            "\n",
            "\n",
            "\n",
            "\n",
            "\n",
            "\n",
            "\n",
            "\n",
            "\n",
            "\n",
            "\n",
            "\n",
            "\n",
            "\n",
            "\n",
            "\n",
            "\n",
            "\n",
            "\n",
            "\n",
            "\n",
            "\n",
            "\n",
            "\n",
            "\n",
            "\n",
            "\n",
            "\n",
            "\n",
            "\n",
            "\n",
            "\n",
            "\n",
            "\n",
            "\n",
            "\n",
            "\n",
            "\n",
            "\n",
            "\n",
            "\n",
            "\n",
            "\n",
            "\n",
            "\n",
            "\n",
            "\n",
            "\n",
            "\n",
            "\n",
            "\n",
            "\n",
            "\n",
            "\n",
            "\n",
            "\n",
            "\n",
            "\n",
            "\n",
            "\n",
            "\n",
            "\n"
          ]
        }
      ]
    },
    {
      "cell_type": "code",
      "source": [
        "response = chain.invoke(input=\"What are the courses they provided?\")\n",
        "print(response)"
      ],
      "metadata": {
        "colab": {
          "base_uri": "https://localhost:8080/"
        },
        "id": "q5vGge8PCYnY",
        "outputId": "f0006f52-20da-4ba6-b2f1-38a2df511729"
      },
      "execution_count": 20,
      "outputs": [
        {
          "output_type": "stream",
          "name": "stdout",
          "text": [
            "Human: \n",
            "Answer this question using the provided context only.\n",
            "\n",
            "What are the courses they provided?\n",
            "\n",
            "Context:\n",
            "[Document(metadata={'page': 1, 'source': '/content/codeprolk.pdf'}, page_content='Learning Experience  \\nCourse Structure  \\nEach course is meticulously structured to provide a holistic learning experience, comprising:  \\n• Video Lectures : Detailed tutorials that break down complex concepts.  \\n• Quizzes : Interactive quizzes to reinforce learning.  \\n• Assignments : Hands -on tasks to apply theoretical knowledge.  \\nCommunity and Support'), Document(metadata={'page': 0, 'source': '/content/codeprolk.pdf'}, page_content='Course Offerings  \\nVariety and Accessibility  \\nCodePRO LK stands out for its wide array of free courses, all presented in Sinhala. The courses \\ncater to various proficiency levels, from beginners to intermediates, ensuring that learners of all \\nstages can benefit.  \\nKey Courses  \\n1. Python GUI – Tkinter : This course covers the essentials of creating graphical user'), Document(metadata={'page': 0, 'source': '/content/codeprolk.pdf'}, page_content='Introduction to CodePRO LK  \\nCodePRO LK  is a dynamic educational platform that offers a diverse range of technology -\\nrelated courses in Sinhala, aimed at empowering Sri Lankans with valuable skills in \\nprogramming, data science, and machine learning. Founded by Dinesh Piyasamara  during the \\nCOVID -19 pandemic, CodePRO LK addresses the growing need for accessible, high -quality'), Document(metadata={'page': 2, 'source': '/content/codeprolk.pdf'}, page_content='Learner Testimonials  \\n• Tharaka Maduwantha : \"I watched your Python video series. Because of that, I was able \\nto complete the online Python course at Moratuwa campus. Thank you very much.     \" \\n• NeuraLK : \"I gained a lot of knowledge by watching tutorials on Python, Java, Numpy, \\nmachine learning, and deep learning. It’s very valuable to learn in Sinhala. All the very \\nbest aiya.\"')]\n",
            "\n",
            "Answer:\n",
            "The courses they provided are:\n",
            "1. Python GUI – Tkinter\n",
            "2. Python GUI – Tkinter\n",
            "3. Introduction to CodePRO LK\n",
            "4. Key Courses\n",
            "5. Variety and Accessibility\n",
            "6. Learning Experience\n",
            "7. Course Structure\n",
            "8. Community and Support\n",
            "9. Course Offerings\n",
            "10. Variety and Accessibility\n",
            "11. Key Courses\n",
            "12. Python GUI – Tkinter\n"
          ]
        }
      ]
    }
  ]
}